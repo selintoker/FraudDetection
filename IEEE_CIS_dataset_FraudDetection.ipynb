{
 "cells": [
  {
   "cell_type": "markdown",
   "metadata": {
    "id": "oMXzDC-d4ipC"
   },
   "source": [
    "# **Setup**"
   ]
  },
  {
   "cell_type": "code",
   "execution_count": 60,
   "metadata": {
    "id": "j-uVZ4Qr0zZz"
   },
   "outputs": [],
   "source": [
    "import os\n",
    "import numpy as np\n",
    "import pandas as pd\n",
    "import sklearn\n",
    "import scipy\n",
    "import seaborn as sns\n",
    "import tensorflow as tf\n",
    "from tensorflow import keras\n",
    "import matplotlib.pyplot as plt\n",
    "from sklearn.preprocessing import StandardScaler, MinMaxScaler\n",
    "from tensorflow.keras.models import Model\n",
    "from sklearn.model_selection import train_test_split\n",
    "\n",
    "from sklearn.experimental import enable_iterative_imputer\n",
    "from sklearn.impute import IterativeImputer\n",
    "from sklearn.preprocessing import RobustScaler\n",
    "from category_encoders import TargetEncoder\n",
    "from xgboost import XGBClassifier"
   ]
  },
  {
   "cell_type": "markdown",
   "metadata": {
    "id": "zlz4dDRsI58z"
   },
   "source": [
    "#**Get Dataset from Kaggle**"
   ]
  },
  {
   "cell_type": "code",
   "execution_count": 62,
   "metadata": {
    "colab": {
     "base_uri": "https://localhost:8080/",
     "height": 92
    },
    "id": "TjcfTu2NH6JZ",
    "outputId": "86069ba0-6d73-4917-c5d3-f1890bed989d"
   },
   "outputs": [
    {
     "name": "stdout",
     "output_type": "stream",
     "text": [
      "Requirement already satisfied: kaggle in /opt/anaconda3/lib/python3.12/site-packages (1.6.17)\n",
      "Requirement already satisfied: six>=1.10 in /opt/anaconda3/lib/python3.12/site-packages (from kaggle) (1.16.0)\n",
      "Requirement already satisfied: certifi>=2023.7.22 in /opt/anaconda3/lib/python3.12/site-packages (from kaggle) (2024.8.30)\n",
      "Requirement already satisfied: python-dateutil in /opt/anaconda3/lib/python3.12/site-packages (from kaggle) (2.9.0.post0)\n",
      "Requirement already satisfied: requests in /opt/anaconda3/lib/python3.12/site-packages (from kaggle) (2.32.2)\n",
      "Requirement already satisfied: tqdm in /opt/anaconda3/lib/python3.12/site-packages (from kaggle) (4.66.4)\n",
      "Requirement already satisfied: python-slugify in /opt/anaconda3/lib/python3.12/site-packages (from kaggle) (5.0.2)\n",
      "Requirement already satisfied: urllib3 in /opt/anaconda3/lib/python3.12/site-packages (from kaggle) (2.2.2)\n",
      "Requirement already satisfied: bleach in /opt/anaconda3/lib/python3.12/site-packages (from kaggle) (4.1.0)\n",
      "Requirement already satisfied: packaging in /opt/anaconda3/lib/python3.12/site-packages (from bleach->kaggle) (23.2)\n",
      "Requirement already satisfied: webencodings in /opt/anaconda3/lib/python3.12/site-packages (from bleach->kaggle) (0.5.1)\n",
      "Requirement already satisfied: text-unidecode>=1.3 in /opt/anaconda3/lib/python3.12/site-packages (from python-slugify->kaggle) (1.3)\n",
      "Requirement already satisfied: charset-normalizer<4,>=2 in /opt/anaconda3/lib/python3.12/site-packages (from requests->kaggle) (2.0.4)\n",
      "Requirement already satisfied: idna<4,>=2.5 in /opt/anaconda3/lib/python3.12/site-packages (from requests->kaggle) (3.7)\n",
      "\n",
      "\u001b[1m[\u001b[0m\u001b[34;49mnotice\u001b[0m\u001b[1;39;49m]\u001b[0m\u001b[39;49m A new release of pip is available: \u001b[0m\u001b[31;49m24.2\u001b[0m\u001b[39;49m -> \u001b[0m\u001b[32;49m24.3.1\u001b[0m\n",
      "\u001b[1m[\u001b[0m\u001b[34;49mnotice\u001b[0m\u001b[1;39;49m]\u001b[0m\u001b[39;49m To update, run: \u001b[0m\u001b[32;49mpip install --upgrade pip\u001b[0m\n"
     ]
    }
   ],
   "source": [
    "!pip install kaggle\n"
   ]
  },
  {
   "cell_type": "code",
   "execution_count": 63,
   "metadata": {
    "id": "2_8BgEerIdKi"
   },
   "outputs": [],
   "source": [
    "# !mkdir -p ~/.kaggle\n",
    "# !cp kaggle.json ~/.kaggle/\n",
    "# !chmod 600 ~/.kaggle/kaggle.json  # Change file permissions\n",
    "os.environ['KAGGLE_USERNAME'] = \"virinchiv\"\n",
    "os.environ['KAGGLE_KEY'] = \"0b9dd7658766f0ac5ebb17d0de3348b1\""
   ]
  },
  {
   "cell_type": "code",
   "execution_count": 64,
   "metadata": {
    "colab": {
     "base_uri": "https://localhost:8080/"
    },
    "id": "glz_9BCu7JIF",
    "outputId": "6f2d3bd6-fd05-47b9-8a82-575bd4c99912"
   },
   "outputs": [
    {
     "name": "stdout",
     "output_type": "stream",
     "text": [
      "ieee-fraud-detection.zip: Skipping, found more recently modified local copy (use --force to force download)\n"
     ]
    }
   ],
   "source": [
    "!kaggle competitions download -c ieee-fraud-detection"
   ]
  },
  {
   "cell_type": "code",
   "execution_count": 65,
   "metadata": {
    "colab": {
     "base_uri": "https://localhost:8080/"
    },
    "id": "o2ApodO37OaU",
    "outputId": "aecd865d-af7c-4cb4-d0d4-5b8cba87dd04"
   },
   "outputs": [
    {
     "data": {
      "text/plain": [
       "['test_transaction.csv',\n",
       " 'train_identity.csv',\n",
       " 'test_identity.csv',\n",
       " 'sample_submission.csv',\n",
       " 'train_transaction.csv']"
      ]
     },
     "execution_count": 65,
     "metadata": {},
     "output_type": "execute_result"
    }
   ],
   "source": [
    "import zipfile\n",
    "\n",
    "# Unzip the dataset\n",
    "with zipfile.ZipFile('ieee-fraud-detection.zip', 'r') as zip_ref:\n",
    "    zip_ref.extractall('ieee_fraud_data')\n",
    "\n",
    "# List files to confirm extraction\n",
    "os.listdir('ieee_fraud_data')"
   ]
  },
  {
   "cell_type": "markdown",
   "metadata": {
    "id": "_8aqeg2LKG2N"
   },
   "source": [
    "#**Create Pandas DataFrame for Dataset**"
   ]
  },
  {
   "cell_type": "code",
   "execution_count": 67,
   "metadata": {
    "id": "nx_ae8m4KWFu"
   },
   "outputs": [],
   "source": [
    "# Load the dataset\n",
    "train_transaction = pd.read_csv('ieee_fraud_data/train_transaction.csv')\n",
    "train_identity = pd.read_csv('ieee_fraud_data/train_identity.csv')\n",
    "test_transaction = pd.read_csv('ieee_fraud_data/test_transaction.csv')\n",
    "test_identity = pd.read_csv('ieee_fraud_data/test_identity.csv')"
   ]
  },
  {
   "cell_type": "code",
   "execution_count": 68,
   "metadata": {
    "colab": {
     "base_uri": "https://localhost:8080/",
     "height": 256
    },
    "id": "rD-pgMXZ9pWY",
    "outputId": "9ebb7e81-19bc-4ef3-d6d1-78741511c254"
   },
   "outputs": [
    {
     "data": {
      "text/html": [
       "<div>\n",
       "<style scoped>\n",
       "    .dataframe tbody tr th:only-of-type {\n",
       "        vertical-align: middle;\n",
       "    }\n",
       "\n",
       "    .dataframe tbody tr th {\n",
       "        vertical-align: top;\n",
       "    }\n",
       "\n",
       "    .dataframe thead th {\n",
       "        text-align: right;\n",
       "    }\n",
       "</style>\n",
       "<table border=\"1\" class=\"dataframe\">\n",
       "  <thead>\n",
       "    <tr style=\"text-align: right;\">\n",
       "      <th></th>\n",
       "      <th>TransactionID</th>\n",
       "      <th>isFraud</th>\n",
       "      <th>TransactionDT</th>\n",
       "      <th>TransactionAmt</th>\n",
       "      <th>ProductCD</th>\n",
       "      <th>card1</th>\n",
       "      <th>card2</th>\n",
       "      <th>card3</th>\n",
       "      <th>card4</th>\n",
       "      <th>card5</th>\n",
       "      <th>...</th>\n",
       "      <th>V330</th>\n",
       "      <th>V331</th>\n",
       "      <th>V332</th>\n",
       "      <th>V333</th>\n",
       "      <th>V334</th>\n",
       "      <th>V335</th>\n",
       "      <th>V336</th>\n",
       "      <th>V337</th>\n",
       "      <th>V338</th>\n",
       "      <th>V339</th>\n",
       "    </tr>\n",
       "  </thead>\n",
       "  <tbody>\n",
       "    <tr>\n",
       "      <th>0</th>\n",
       "      <td>2987000</td>\n",
       "      <td>0</td>\n",
       "      <td>86400</td>\n",
       "      <td>68.5</td>\n",
       "      <td>W</td>\n",
       "      <td>13926</td>\n",
       "      <td>NaN</td>\n",
       "      <td>150.0</td>\n",
       "      <td>discover</td>\n",
       "      <td>142.0</td>\n",
       "      <td>...</td>\n",
       "      <td>NaN</td>\n",
       "      <td>NaN</td>\n",
       "      <td>NaN</td>\n",
       "      <td>NaN</td>\n",
       "      <td>NaN</td>\n",
       "      <td>NaN</td>\n",
       "      <td>NaN</td>\n",
       "      <td>NaN</td>\n",
       "      <td>NaN</td>\n",
       "      <td>NaN</td>\n",
       "    </tr>\n",
       "    <tr>\n",
       "      <th>1</th>\n",
       "      <td>2987001</td>\n",
       "      <td>0</td>\n",
       "      <td>86401</td>\n",
       "      <td>29.0</td>\n",
       "      <td>W</td>\n",
       "      <td>2755</td>\n",
       "      <td>404.0</td>\n",
       "      <td>150.0</td>\n",
       "      <td>mastercard</td>\n",
       "      <td>102.0</td>\n",
       "      <td>...</td>\n",
       "      <td>NaN</td>\n",
       "      <td>NaN</td>\n",
       "      <td>NaN</td>\n",
       "      <td>NaN</td>\n",
       "      <td>NaN</td>\n",
       "      <td>NaN</td>\n",
       "      <td>NaN</td>\n",
       "      <td>NaN</td>\n",
       "      <td>NaN</td>\n",
       "      <td>NaN</td>\n",
       "    </tr>\n",
       "    <tr>\n",
       "      <th>2</th>\n",
       "      <td>2987002</td>\n",
       "      <td>0</td>\n",
       "      <td>86469</td>\n",
       "      <td>59.0</td>\n",
       "      <td>W</td>\n",
       "      <td>4663</td>\n",
       "      <td>490.0</td>\n",
       "      <td>150.0</td>\n",
       "      <td>visa</td>\n",
       "      <td>166.0</td>\n",
       "      <td>...</td>\n",
       "      <td>NaN</td>\n",
       "      <td>NaN</td>\n",
       "      <td>NaN</td>\n",
       "      <td>NaN</td>\n",
       "      <td>NaN</td>\n",
       "      <td>NaN</td>\n",
       "      <td>NaN</td>\n",
       "      <td>NaN</td>\n",
       "      <td>NaN</td>\n",
       "      <td>NaN</td>\n",
       "    </tr>\n",
       "    <tr>\n",
       "      <th>3</th>\n",
       "      <td>2987003</td>\n",
       "      <td>0</td>\n",
       "      <td>86499</td>\n",
       "      <td>50.0</td>\n",
       "      <td>W</td>\n",
       "      <td>18132</td>\n",
       "      <td>567.0</td>\n",
       "      <td>150.0</td>\n",
       "      <td>mastercard</td>\n",
       "      <td>117.0</td>\n",
       "      <td>...</td>\n",
       "      <td>NaN</td>\n",
       "      <td>NaN</td>\n",
       "      <td>NaN</td>\n",
       "      <td>NaN</td>\n",
       "      <td>NaN</td>\n",
       "      <td>NaN</td>\n",
       "      <td>NaN</td>\n",
       "      <td>NaN</td>\n",
       "      <td>NaN</td>\n",
       "      <td>NaN</td>\n",
       "    </tr>\n",
       "    <tr>\n",
       "      <th>4</th>\n",
       "      <td>2987004</td>\n",
       "      <td>0</td>\n",
       "      <td>86506</td>\n",
       "      <td>50.0</td>\n",
       "      <td>H</td>\n",
       "      <td>4497</td>\n",
       "      <td>514.0</td>\n",
       "      <td>150.0</td>\n",
       "      <td>mastercard</td>\n",
       "      <td>102.0</td>\n",
       "      <td>...</td>\n",
       "      <td>0.0</td>\n",
       "      <td>0.0</td>\n",
       "      <td>0.0</td>\n",
       "      <td>0.0</td>\n",
       "      <td>0.0</td>\n",
       "      <td>0.0</td>\n",
       "      <td>0.0</td>\n",
       "      <td>0.0</td>\n",
       "      <td>0.0</td>\n",
       "      <td>0.0</td>\n",
       "    </tr>\n",
       "  </tbody>\n",
       "</table>\n",
       "<p>5 rows × 394 columns</p>\n",
       "</div>"
      ],
      "text/plain": [
       "   TransactionID  isFraud  TransactionDT  TransactionAmt ProductCD  card1  \\\n",
       "0        2987000        0          86400            68.5         W  13926   \n",
       "1        2987001        0          86401            29.0         W   2755   \n",
       "2        2987002        0          86469            59.0         W   4663   \n",
       "3        2987003        0          86499            50.0         W  18132   \n",
       "4        2987004        0          86506            50.0         H   4497   \n",
       "\n",
       "   card2  card3       card4  card5  ... V330  V331  V332  V333  V334 V335  \\\n",
       "0    NaN  150.0    discover  142.0  ...  NaN   NaN   NaN   NaN   NaN  NaN   \n",
       "1  404.0  150.0  mastercard  102.0  ...  NaN   NaN   NaN   NaN   NaN  NaN   \n",
       "2  490.0  150.0        visa  166.0  ...  NaN   NaN   NaN   NaN   NaN  NaN   \n",
       "3  567.0  150.0  mastercard  117.0  ...  NaN   NaN   NaN   NaN   NaN  NaN   \n",
       "4  514.0  150.0  mastercard  102.0  ...  0.0   0.0   0.0   0.0   0.0  0.0   \n",
       "\n",
       "  V336  V337  V338  V339  \n",
       "0  NaN   NaN   NaN   NaN  \n",
       "1  NaN   NaN   NaN   NaN  \n",
       "2  NaN   NaN   NaN   NaN  \n",
       "3  NaN   NaN   NaN   NaN  \n",
       "4  0.0   0.0   0.0   0.0  \n",
       "\n",
       "[5 rows x 394 columns]"
      ]
     },
     "execution_count": 68,
     "metadata": {},
     "output_type": "execute_result"
    }
   ],
   "source": [
    "# Display the first few rows\n",
    "train_transaction.head()"
   ]
  },
  {
   "cell_type": "code",
   "execution_count": 127,
   "metadata": {
    "colab": {
     "base_uri": "https://localhost:8080/",
     "height": 290
    },
    "id": "DNBd_yAj9Ryn",
    "outputId": "7b47633e-89a2-4c9e-8766-4796a1f30a6e"
   },
   "outputs": [
    {
     "data": {
      "text/html": [
       "<div>\n",
       "<style scoped>\n",
       "    .dataframe tbody tr th:only-of-type {\n",
       "        vertical-align: middle;\n",
       "    }\n",
       "\n",
       "    .dataframe tbody tr th {\n",
       "        vertical-align: top;\n",
       "    }\n",
       "\n",
       "    .dataframe thead th {\n",
       "        text-align: right;\n",
       "    }\n",
       "</style>\n",
       "<table border=\"1\" class=\"dataframe\">\n",
       "  <thead>\n",
       "    <tr style=\"text-align: right;\">\n",
       "      <th></th>\n",
       "      <th>TransactionID</th>\n",
       "      <th>isFraud</th>\n",
       "      <th>TransactionDT</th>\n",
       "      <th>TransactionAmt</th>\n",
       "      <th>ProductCD</th>\n",
       "      <th>card1</th>\n",
       "      <th>card2</th>\n",
       "      <th>card3</th>\n",
       "      <th>card4</th>\n",
       "      <th>card5</th>\n",
       "      <th>...</th>\n",
       "      <th>id_31</th>\n",
       "      <th>id_32</th>\n",
       "      <th>id_33</th>\n",
       "      <th>id_34</th>\n",
       "      <th>id_35</th>\n",
       "      <th>id_36</th>\n",
       "      <th>id_37</th>\n",
       "      <th>id_38</th>\n",
       "      <th>DeviceType</th>\n",
       "      <th>DeviceInfo</th>\n",
       "    </tr>\n",
       "  </thead>\n",
       "  <tbody>\n",
       "    <tr>\n",
       "      <th>0</th>\n",
       "      <td>2987000</td>\n",
       "      <td>0</td>\n",
       "      <td>86400</td>\n",
       "      <td>68.5</td>\n",
       "      <td>W</td>\n",
       "      <td>13926</td>\n",
       "      <td>NaN</td>\n",
       "      <td>150.0</td>\n",
       "      <td>discover</td>\n",
       "      <td>142.0</td>\n",
       "      <td>...</td>\n",
       "      <td>NaN</td>\n",
       "      <td>NaN</td>\n",
       "      <td>NaN</td>\n",
       "      <td>NaN</td>\n",
       "      <td>NaN</td>\n",
       "      <td>NaN</td>\n",
       "      <td>NaN</td>\n",
       "      <td>NaN</td>\n",
       "      <td>NaN</td>\n",
       "      <td>NaN</td>\n",
       "    </tr>\n",
       "    <tr>\n",
       "      <th>1</th>\n",
       "      <td>2987001</td>\n",
       "      <td>0</td>\n",
       "      <td>86401</td>\n",
       "      <td>29.0</td>\n",
       "      <td>W</td>\n",
       "      <td>2755</td>\n",
       "      <td>404.0</td>\n",
       "      <td>150.0</td>\n",
       "      <td>mastercard</td>\n",
       "      <td>102.0</td>\n",
       "      <td>...</td>\n",
       "      <td>NaN</td>\n",
       "      <td>NaN</td>\n",
       "      <td>NaN</td>\n",
       "      <td>NaN</td>\n",
       "      <td>NaN</td>\n",
       "      <td>NaN</td>\n",
       "      <td>NaN</td>\n",
       "      <td>NaN</td>\n",
       "      <td>NaN</td>\n",
       "      <td>NaN</td>\n",
       "    </tr>\n",
       "    <tr>\n",
       "      <th>2</th>\n",
       "      <td>2987002</td>\n",
       "      <td>0</td>\n",
       "      <td>86469</td>\n",
       "      <td>59.0</td>\n",
       "      <td>W</td>\n",
       "      <td>4663</td>\n",
       "      <td>490.0</td>\n",
       "      <td>150.0</td>\n",
       "      <td>visa</td>\n",
       "      <td>166.0</td>\n",
       "      <td>...</td>\n",
       "      <td>NaN</td>\n",
       "      <td>NaN</td>\n",
       "      <td>NaN</td>\n",
       "      <td>NaN</td>\n",
       "      <td>NaN</td>\n",
       "      <td>NaN</td>\n",
       "      <td>NaN</td>\n",
       "      <td>NaN</td>\n",
       "      <td>NaN</td>\n",
       "      <td>NaN</td>\n",
       "    </tr>\n",
       "    <tr>\n",
       "      <th>3</th>\n",
       "      <td>2987003</td>\n",
       "      <td>0</td>\n",
       "      <td>86499</td>\n",
       "      <td>50.0</td>\n",
       "      <td>W</td>\n",
       "      <td>18132</td>\n",
       "      <td>567.0</td>\n",
       "      <td>150.0</td>\n",
       "      <td>mastercard</td>\n",
       "      <td>117.0</td>\n",
       "      <td>...</td>\n",
       "      <td>NaN</td>\n",
       "      <td>NaN</td>\n",
       "      <td>NaN</td>\n",
       "      <td>NaN</td>\n",
       "      <td>NaN</td>\n",
       "      <td>NaN</td>\n",
       "      <td>NaN</td>\n",
       "      <td>NaN</td>\n",
       "      <td>NaN</td>\n",
       "      <td>NaN</td>\n",
       "    </tr>\n",
       "    <tr>\n",
       "      <th>4</th>\n",
       "      <td>2987004</td>\n",
       "      <td>0</td>\n",
       "      <td>86506</td>\n",
       "      <td>50.0</td>\n",
       "      <td>H</td>\n",
       "      <td>4497</td>\n",
       "      <td>514.0</td>\n",
       "      <td>150.0</td>\n",
       "      <td>mastercard</td>\n",
       "      <td>102.0</td>\n",
       "      <td>...</td>\n",
       "      <td>samsung browser 6.2</td>\n",
       "      <td>32.0</td>\n",
       "      <td>2220x1080</td>\n",
       "      <td>match_status:2</td>\n",
       "      <td>T</td>\n",
       "      <td>F</td>\n",
       "      <td>T</td>\n",
       "      <td>T</td>\n",
       "      <td>mobile</td>\n",
       "      <td>SAMSUNG SM-G892A Build/NRD90M</td>\n",
       "    </tr>\n",
       "  </tbody>\n",
       "</table>\n",
       "<p>5 rows × 434 columns</p>\n",
       "</div>"
      ],
      "text/plain": [
       "   TransactionID  isFraud  TransactionDT  TransactionAmt ProductCD  card1  \\\n",
       "0        2987000        0          86400            68.5         W  13926   \n",
       "1        2987001        0          86401            29.0         W   2755   \n",
       "2        2987002        0          86469            59.0         W   4663   \n",
       "3        2987003        0          86499            50.0         W  18132   \n",
       "4        2987004        0          86506            50.0         H   4497   \n",
       "\n",
       "   card2  card3       card4  card5  ...                id_31  id_32  \\\n",
       "0    NaN  150.0    discover  142.0  ...                  NaN    NaN   \n",
       "1  404.0  150.0  mastercard  102.0  ...                  NaN    NaN   \n",
       "2  490.0  150.0        visa  166.0  ...                  NaN    NaN   \n",
       "3  567.0  150.0  mastercard  117.0  ...                  NaN    NaN   \n",
       "4  514.0  150.0  mastercard  102.0  ...  samsung browser 6.2   32.0   \n",
       "\n",
       "       id_33           id_34  id_35 id_36 id_37  id_38  DeviceType  \\\n",
       "0        NaN             NaN    NaN   NaN   NaN    NaN         NaN   \n",
       "1        NaN             NaN    NaN   NaN   NaN    NaN         NaN   \n",
       "2        NaN             NaN    NaN   NaN   NaN    NaN         NaN   \n",
       "3        NaN             NaN    NaN   NaN   NaN    NaN         NaN   \n",
       "4  2220x1080  match_status:2      T     F     T      T      mobile   \n",
       "\n",
       "                      DeviceInfo  \n",
       "0                            NaN  \n",
       "1                            NaN  \n",
       "2                            NaN  \n",
       "3                            NaN  \n",
       "4  SAMSUNG SM-G892A Build/NRD90M  \n",
       "\n",
       "[5 rows x 434 columns]"
      ]
     },
     "execution_count": 127,
     "metadata": {},
     "output_type": "execute_result"
    }
   ],
   "source": [
    "# Merge transaction and identity datasets on 'TransactionID'\n",
    "train_df = pd.merge(train_transaction, train_identity, on='TransactionID', how='left')\n",
    "train_df.head()\n",
    "\n",
    "# test_df = pd.merge(test_transaction, test_identity, on='TransactionID', how='left')\n",
    "# test_df.head()"
   ]
  },
  {
   "cell_type": "markdown",
   "metadata": {
    "id": "i4jhT8ulT6UV"
   },
   "source": [
    "#**Handling Duplicates and Null Values**"
   ]
  },
  {
   "cell_type": "code",
   "execution_count": 72,
   "metadata": {
    "colab": {
     "base_uri": "https://localhost:8080/"
    },
    "id": "CJI6s-qOUCk7",
    "outputId": "386c7108-b0c0-4a9b-c90b-ead164d159b2"
   },
   "outputs": [
    {
     "name": "stdout",
     "output_type": "stream",
     "text": [
      "Remaining null values in the dataset:\n",
      "TransactionID          0\n",
      "isFraud                0\n",
      "TransactionDT          0\n",
      "TransactionAmt         0\n",
      "ProductCD              0\n",
      "                   ...  \n",
      "id_36             449555\n",
      "id_37             449555\n",
      "id_38             449555\n",
      "DeviceType        449730\n",
      "DeviceInfo        471874\n",
      "Length: 434, dtype: int64\n"
     ]
    }
   ],
   "source": [
    "# Remove null values from all columns except 'Time'\n",
    "# train_df = train_df[train_df.columns.difference(['Time'])].dropna().join(train_df['Time'])\n",
    "\n",
    "# Confirm the result\n",
    "print(\"Remaining null values in the dataset:\")\n",
    "print(train_df.isnull().sum())"
   ]
  },
  {
   "cell_type": "code",
   "execution_count": 73,
   "metadata": {
    "colab": {
     "base_uri": "https://localhost:8080/"
    },
    "id": "GRWKQkbeUIsg",
    "outputId": "383b38ed-e1a0-477a-8c80-c658015310f5"
   },
   "outputs": [
    {
     "data": {
      "text/plain": [
       "0"
      ]
     },
     "execution_count": 73,
     "metadata": {},
     "output_type": "execute_result"
    }
   ],
   "source": [
    "train_df.duplicated().sum() #"
   ]
  },
  {
   "cell_type": "code",
   "execution_count": 74,
   "metadata": {
    "id": "JqMdzSLfvxCZ"
   },
   "outputs": [
    {
     "data": {
      "text/html": [
       "<div>\n",
       "<style scoped>\n",
       "    .dataframe tbody tr th:only-of-type {\n",
       "        vertical-align: middle;\n",
       "    }\n",
       "\n",
       "    .dataframe tbody tr th {\n",
       "        vertical-align: top;\n",
       "    }\n",
       "\n",
       "    .dataframe thead th {\n",
       "        text-align: right;\n",
       "    }\n",
       "</style>\n",
       "<table border=\"1\" class=\"dataframe\">\n",
       "  <thead>\n",
       "    <tr style=\"text-align: right;\">\n",
       "      <th></th>\n",
       "      <th>TransactionID</th>\n",
       "      <th>TransactionDT</th>\n",
       "      <th>TransactionAmt</th>\n",
       "      <th>ProductCD</th>\n",
       "      <th>card1</th>\n",
       "      <th>card2</th>\n",
       "      <th>card3</th>\n",
       "      <th>card4</th>\n",
       "      <th>card5</th>\n",
       "      <th>card6</th>\n",
       "      <th>...</th>\n",
       "      <th>id-20</th>\n",
       "      <th>id-28</th>\n",
       "      <th>id-29</th>\n",
       "      <th>id-31</th>\n",
       "      <th>id-35</th>\n",
       "      <th>id-36</th>\n",
       "      <th>id-37</th>\n",
       "      <th>id-38</th>\n",
       "      <th>DeviceType</th>\n",
       "      <th>DeviceInfo</th>\n",
       "    </tr>\n",
       "  </thead>\n",
       "  <tbody>\n",
       "    <tr>\n",
       "      <th>0</th>\n",
       "      <td>3663549</td>\n",
       "      <td>18403224</td>\n",
       "      <td>31.95</td>\n",
       "      <td>W</td>\n",
       "      <td>10409</td>\n",
       "      <td>111.0</td>\n",
       "      <td>150.0</td>\n",
       "      <td>visa</td>\n",
       "      <td>226.0</td>\n",
       "      <td>debit</td>\n",
       "      <td>...</td>\n",
       "      <td>NaN</td>\n",
       "      <td>NaN</td>\n",
       "      <td>NaN</td>\n",
       "      <td>NaN</td>\n",
       "      <td>NaN</td>\n",
       "      <td>NaN</td>\n",
       "      <td>NaN</td>\n",
       "      <td>NaN</td>\n",
       "      <td>NaN</td>\n",
       "      <td>NaN</td>\n",
       "    </tr>\n",
       "    <tr>\n",
       "      <th>1</th>\n",
       "      <td>3663550</td>\n",
       "      <td>18403263</td>\n",
       "      <td>49.00</td>\n",
       "      <td>W</td>\n",
       "      <td>4272</td>\n",
       "      <td>111.0</td>\n",
       "      <td>150.0</td>\n",
       "      <td>visa</td>\n",
       "      <td>226.0</td>\n",
       "      <td>debit</td>\n",
       "      <td>...</td>\n",
       "      <td>NaN</td>\n",
       "      <td>NaN</td>\n",
       "      <td>NaN</td>\n",
       "      <td>NaN</td>\n",
       "      <td>NaN</td>\n",
       "      <td>NaN</td>\n",
       "      <td>NaN</td>\n",
       "      <td>NaN</td>\n",
       "      <td>NaN</td>\n",
       "      <td>NaN</td>\n",
       "    </tr>\n",
       "    <tr>\n",
       "      <th>2</th>\n",
       "      <td>3663551</td>\n",
       "      <td>18403310</td>\n",
       "      <td>171.00</td>\n",
       "      <td>W</td>\n",
       "      <td>4476</td>\n",
       "      <td>574.0</td>\n",
       "      <td>150.0</td>\n",
       "      <td>visa</td>\n",
       "      <td>226.0</td>\n",
       "      <td>debit</td>\n",
       "      <td>...</td>\n",
       "      <td>NaN</td>\n",
       "      <td>NaN</td>\n",
       "      <td>NaN</td>\n",
       "      <td>NaN</td>\n",
       "      <td>NaN</td>\n",
       "      <td>NaN</td>\n",
       "      <td>NaN</td>\n",
       "      <td>NaN</td>\n",
       "      <td>NaN</td>\n",
       "      <td>NaN</td>\n",
       "    </tr>\n",
       "    <tr>\n",
       "      <th>3</th>\n",
       "      <td>3663552</td>\n",
       "      <td>18403310</td>\n",
       "      <td>284.95</td>\n",
       "      <td>W</td>\n",
       "      <td>10989</td>\n",
       "      <td>360.0</td>\n",
       "      <td>150.0</td>\n",
       "      <td>visa</td>\n",
       "      <td>166.0</td>\n",
       "      <td>debit</td>\n",
       "      <td>...</td>\n",
       "      <td>NaN</td>\n",
       "      <td>NaN</td>\n",
       "      <td>NaN</td>\n",
       "      <td>NaN</td>\n",
       "      <td>NaN</td>\n",
       "      <td>NaN</td>\n",
       "      <td>NaN</td>\n",
       "      <td>NaN</td>\n",
       "      <td>NaN</td>\n",
       "      <td>NaN</td>\n",
       "    </tr>\n",
       "    <tr>\n",
       "      <th>4</th>\n",
       "      <td>3663553</td>\n",
       "      <td>18403317</td>\n",
       "      <td>67.95</td>\n",
       "      <td>W</td>\n",
       "      <td>18018</td>\n",
       "      <td>452.0</td>\n",
       "      <td>150.0</td>\n",
       "      <td>mastercard</td>\n",
       "      <td>117.0</td>\n",
       "      <td>debit</td>\n",
       "      <td>...</td>\n",
       "      <td>NaN</td>\n",
       "      <td>NaN</td>\n",
       "      <td>NaN</td>\n",
       "      <td>NaN</td>\n",
       "      <td>NaN</td>\n",
       "      <td>NaN</td>\n",
       "      <td>NaN</td>\n",
       "      <td>NaN</td>\n",
       "      <td>NaN</td>\n",
       "      <td>NaN</td>\n",
       "    </tr>\n",
       "  </tbody>\n",
       "</table>\n",
       "<p>5 rows × 362 columns</p>\n",
       "</div>"
      ],
      "text/plain": [
       "   TransactionID  TransactionDT  TransactionAmt ProductCD  card1  card2  \\\n",
       "0        3663549       18403224           31.95         W  10409  111.0   \n",
       "1        3663550       18403263           49.00         W   4272  111.0   \n",
       "2        3663551       18403310          171.00         W   4476  574.0   \n",
       "3        3663552       18403310          284.95         W  10989  360.0   \n",
       "4        3663553       18403317           67.95         W  18018  452.0   \n",
       "\n",
       "   card3       card4  card5  card6  ...  id-20  id-28  id-29 id-31 id-35  \\\n",
       "0  150.0        visa  226.0  debit  ...    NaN    NaN    NaN   NaN   NaN   \n",
       "1  150.0        visa  226.0  debit  ...    NaN    NaN    NaN   NaN   NaN   \n",
       "2  150.0        visa  226.0  debit  ...    NaN    NaN    NaN   NaN   NaN   \n",
       "3  150.0        visa  166.0  debit  ...    NaN    NaN    NaN   NaN   NaN   \n",
       "4  150.0  mastercard  117.0  debit  ...    NaN    NaN    NaN   NaN   NaN   \n",
       "\n",
       "   id-36  id-37  id-38  DeviceType  DeviceInfo  \n",
       "0    NaN    NaN    NaN         NaN         NaN  \n",
       "1    NaN    NaN    NaN         NaN         NaN  \n",
       "2    NaN    NaN    NaN         NaN         NaN  \n",
       "3    NaN    NaN    NaN         NaN         NaN  \n",
       "4    NaN    NaN    NaN         NaN         NaN  \n",
       "\n",
       "[5 rows x 362 columns]"
      ]
     },
     "execution_count": 74,
     "metadata": {},
     "output_type": "execute_result"
    }
   ],
   "source": [
    "threshold = 0.8\n",
    "train_df = train_df[train_df.columns[train_df.isnull().mean() < threshold]]\n",
    "train_df.head()\n",
    "\n",
    "test_df = test_df[test_df.columns[test_df.isnull().mean() < threshold]]\n",
    "test_df.head()"
   ]
  },
  {
   "cell_type": "code",
   "execution_count": 75,
   "metadata": {
    "colab": {
     "base_uri": "https://localhost:8080/"
    },
    "id": "pjAaBO07v3lF",
    "outputId": "47209a75-2dfd-488a-da0c-084986839e72"
   },
   "outputs": [
    {
     "name": "stderr",
     "output_type": "stream",
     "text": [
      "/var/folders/yl/19nbcjt104gdn52x50k4b_sm0000gn/T/ipykernel_82016/4151065301.py:3: FutureWarning: A value is trying to be set on a copy of a DataFrame or Series through chained assignment using an inplace method.\n",
      "The behavior will change in pandas 3.0. This inplace method will never work because the intermediate object on which we are setting values always behaves as a copy.\n",
      "\n",
      "For example, when doing 'df[col].method(value, inplace=True)', try using 'df.method({col: value}, inplace=True)' or df[col] = df[col].method(value) instead, to perform the operation inplace on the original object.\n",
      "\n",
      "\n",
      "  train_df[col].fillna(train_df[col].median(), inplace=True)\n",
      "/var/folders/yl/19nbcjt104gdn52x50k4b_sm0000gn/T/ipykernel_82016/4151065301.py:5: FutureWarning: A value is trying to be set on a copy of a DataFrame or Series through chained assignment using an inplace method.\n",
      "The behavior will change in pandas 3.0. This inplace method will never work because the intermediate object on which we are setting values always behaves as a copy.\n",
      "\n",
      "For example, when doing 'df[col].method(value, inplace=True)', try using 'df.method({col: value}, inplace=True)' or df[col] = df[col].method(value) instead, to perform the operation inplace on the original object.\n",
      "\n",
      "\n",
      "  train_df[col].fillna(train_df[col].mode()[0], inplace=True)\n",
      "/var/folders/yl/19nbcjt104gdn52x50k4b_sm0000gn/T/ipykernel_82016/4151065301.py:13: FutureWarning: A value is trying to be set on a copy of a DataFrame or Series through chained assignment using an inplace method.\n",
      "The behavior will change in pandas 3.0. This inplace method will never work because the intermediate object on which we are setting values always behaves as a copy.\n",
      "\n",
      "For example, when doing 'df[col].method(value, inplace=True)', try using 'df.method({col: value}, inplace=True)' or df[col] = df[col].method(value) instead, to perform the operation inplace on the original object.\n",
      "\n",
      "\n",
      "  test_df[col].fillna(test_df[col].median(), inplace=True)\n",
      "/var/folders/yl/19nbcjt104gdn52x50k4b_sm0000gn/T/ipykernel_82016/4151065301.py:15: FutureWarning: A value is trying to be set on a copy of a DataFrame or Series through chained assignment using an inplace method.\n",
      "The behavior will change in pandas 3.0. This inplace method will never work because the intermediate object on which we are setting values always behaves as a copy.\n",
      "\n",
      "For example, when doing 'df[col].method(value, inplace=True)', try using 'df.method({col: value}, inplace=True)' or df[col] = df[col].method(value) instead, to perform the operation inplace on the original object.\n",
      "\n",
      "\n",
      "  test_df[col].fillna(test_df[col].mode()[0], inplace=True)\n"
     ]
    }
   ],
   "source": [
    "for col in train_df.columns:\n",
    "    if train_df[col].dtype in ['float64', 'int64']:\n",
    "        train_df[col].fillna(train_df[col].median(), inplace=True)\n",
    "    else:\n",
    "        train_df[col].fillna(train_df[col].mode()[0], inplace=True)\n",
    "\n",
    "# Drop columns that are irrelevant or have high cardinality (e.g., TransactionID, DeviceInfo)\n",
    "irrelevant_cols = ['TransactionID', 'DeviceInfo']\n",
    "train_df = train_df.drop(columns=irrelevant_cols)\n",
    "\n",
    "for col in test_df.columns:\n",
    "    if test_df[col].dtype in ['float64', 'int64']:\n",
    "        test_df[col].fillna(test_df[col].median(), inplace=True)\n",
    "    else:\n",
    "        test_df[col].fillna(test_df[col].mode()[0], inplace=True)\n",
    "\n",
    "# Drop columns that are irrelevant or have high cardinality (e.g., TransactionID, DeviceInfo)\n",
    "test_df = test_df.drop(columns=irrelevant_cols)"
   ]
  },
  {
   "cell_type": "code",
   "execution_count": 76,
   "metadata": {
    "colab": {
     "base_uri": "https://localhost:8080/",
     "height": 444
    },
    "id": "spc73dR4nQ-V",
    "outputId": "a800ad48-d513-4308-a228-36747e1c9401"
   },
   "outputs": [
    {
     "data": {
      "image/png": "[encoded data removed]",
      "text/plain": [
       "<Figure size 800x500 with 1 Axes>"
      ]
     },
     "metadata": {},
     "output_type": "display_data"
    }
   ],
   "source": [
    "# Create a pie chart\n",
    "class_counts = train_df['isFraud'].value_counts()\n",
    "\n",
    "plt.figure(figsize=(8, 5))\n",
    "plt.pie(class_counts, labels=['Non-Fraud', 'Fraud'], autopct='%1.1f%%', colors=['lightblue', 'lightcoral'])\n",
    "plt.title('Proportion of Transactions by Class')\n",
    "plt.legend(title='Class', labels=['Non-Fraud', 'Fraud'], loc='lower right')\n",
    "plt.show()"
   ]
  },
  {
   "cell_type": "code",
   "execution_count": 77,
   "metadata": {
    "colab": {
     "base_uri": "https://localhost:8080/",
     "height": 493
    },
    "id": "pMxQPisKp69e",
    "outputId": "9f7e59de-7313-422a-9705-f1b4c0870cf6"
   },
   "outputs": [
    {
     "data": {
      "image/png": "[encoded data removed]",
      "text/plain": [
       "<Figure size 800x500 with 1 Axes>"
      ]
     },
     "metadata": {},
     "output_type": "display_data"
    }
   ],
   "source": [
    "class_palette = {0: 'lightblue', 1: 'red'}\n",
    "\n",
    "# Count plot for transactions\n",
    "plt.figure(figsize=(8, 5))\n",
    "ax = sns.countplot(x='isFraud', data=train_df, hue='isFraud', palette=class_palette, order=train_df['isFraud'].value_counts().index)\n",
    "\n",
    "# Get the counts for non-fraud and fraud\n",
    "non_fraud_count = train_df['isFraud'].value_counts()[0]\n",
    "fraud_count = train_df['isFraud'].value_counts()[1]\n",
    "\n",
    "# Adding text annotations for counts with comma formatting\n",
    "plt.text(0, non_fraud_count + 50, f'Non-Fraud: {non_fraud_count:,}', color='blue', fontsize=12, ha='center')\n",
    "plt.text(1, fraud_count + 50, f'Fraud: {fraud_count}', color='red', fontsize=12, ha='center')\n",
    "\n",
    "plt.title('Count of Transactions by Class', fontsize=16)\n",
    "plt.xlabel('Class (0: Non-Fraud, 1: Fraud)', fontsize=12)\n",
    "plt.ylabel('Count', fontsize=12)\n",
    "plt.xticks([0, 1], ['Non-Fraud', 'Fraud'])\n",
    "plt.legend(title='Class', labels=['Non-Fraud', 'Fraud'], loc='upper right')\n",
    "plt.show()"
   ]
  },
  {
   "cell_type": "code",
   "execution_count": 78,
   "metadata": {
    "id": "3etcKkqCwqbz"
   },
   "outputs": [],
   "source": [
    "# Convert categorical variables to dummy variables\n",
    "train_df = pd.get_dummies(train_df, drop_first=True)\n",
    "\n",
    "# Scale the data (important for neural networks)\n",
    "scaler = StandardScaler()\n",
    "scaled_data = scaler.fit_transform(train_df.drop(columns=['isFraud']))\n",
    "scaled_df = pd.DataFrame(scaled_data, columns=train_df.drop(columns=['isFraud']).columns)\n",
    "\n",
    "# Add back the target variable 'isFraud'\n",
    "scaled_df['isFraud'] = train_df['isFraud'].values"
   ]
  },
  {
   "cell_type": "code",
   "execution_count": 79,
   "metadata": {},
   "outputs": [],
   "source": [
    "# test_df = test_df.reindex(columns=train_df.columns, fill_value=0)\n",
    "# # test_df = pd.get_dummies(test_df, drop_first=True)\n",
    "# scaled_test_data = scaler.fit_transform(test_df)  # Exclude the target variable\n",
    "# scaled_test_df = pd.DataFrame(scaled_test_data, columns=test_df.columns)"
   ]
  },
  {
   "cell_type": "markdown",
   "metadata": {
    "id": "Nq91kZyos4Cg"
   },
   "source": [
    "# **Split Data**"
   ]
  },
  {
   "cell_type": "code",
   "execution_count": 81,
   "metadata": {},
   "outputs": [],
   "source": [
    "X = scaled_df.drop(columns=['isFraud'])  # Features\n",
    "y = scaled_df['isFraud']                 # Target\n",
    "\n",
    "# Perform a stratified train-test split to ensure proportional distribution of fraud cases\n",
    "X_train, X_test, y_train, y_test = train_test_split(X, y, test_size=0.2, random_state=42, stratify=y)"
   ]
  },
  {
   "cell_type": "code",
   "execution_count": 82,
   "metadata": {},
   "outputs": [],
   "source": [
    "# Scaled data for neural network\n",
    "scaler = StandardScaler()\n",
    "X_train_scaled = scaler.fit_transform(X_train)\n",
    "X_test_scaled = scaler.transform(X_test)"
   ]
  },
  {
   "cell_type": "markdown",
   "metadata": {},
   "source": [
    "# **AutoEncoder Neural Network**\n"
   ]
  },
  {
   "cell_type": "code",
   "execution_count": 84,
   "metadata": {},
   "outputs": [],
   "source": [
    "from tensorflow.keras.models import Model\n",
    "from tensorflow.keras.layers import Input, Dense, BatchNormalization, Dropout\n",
    "from tensorflow.keras.callbacks import EarlyStopping, ReduceLROnPlateau\n",
    "\n",
    "class AutoEncoder(Model):\n",
    "  def __init__(self):\n",
    "        encoding_dim = 64\n",
    "        super(AutoEncoder, self).__init__()\n",
    "        # Encoder\n",
    "        self.encoder = tf.keras.Sequential([\n",
    "            Dense(encoding_dim, activation='relu',kernel_regularizer=tf.keras.regularizers.l2(0.001)),\n",
    "            BatchNormalization(),\n",
    "            Dropout(0.5),\n",
    "            Dense(int(encoding_dim/2), activation='relu',kernel_regularizer=tf.keras.regularizers.l2(0.001)),\n",
    "            BatchNormalization(),\n",
    "            Dropout(0.5),\n",
    "            Dense(int(encoding_dim/4), activation='relu',kernel_regularizer=tf.keras.regularizers.l2(0.001)),\n",
    "            Dropout(0.5),\n",
    "            Dense(int(encoding_dim/8), activation='relu',kernel_regularizer=tf.keras.regularizers.l2(0.001)),\n",
    "        ])\n",
    "\n",
    "        # Decoder\n",
    "        self.decoder = tf.keras.Sequential([\n",
    "            Dense(int(encoding_dim/4), activation='relu',kernel_regularizer=tf.keras.regularizers.l2(0.001)),\n",
    "            BatchNormalization(),\n",
    "            Dropout(0.5),\n",
    "            Dense(int(encoding_dim/2), activation='relu',kernel_regularizer=tf.keras.regularizers.l2(0.001)),\n",
    "            BatchNormalization(),\n",
    "            Dropout(0.5),\n",
    "            Dense(encoding_dim, activation='relu',kernel_regularizer=tf.keras.regularizers.l2(0.001)),\n",
    "            BatchNormalization(),\n",
    "            Dropout(0.5),\n",
    "            Dense(X_train.shape[1], activation='sigmoid'),\n",
    "        ])\n",
    "\n",
    "  def call(self, x):\n",
    "    encoded = self.encoder(x)\n",
    "    decoded = self.decoder(encoded)\n",
    "    return decoded"
   ]
  },
  {
   "cell_type": "code",
   "execution_count": 85,
   "metadata": {
    "scrolled": true
   },
   "outputs": [
    {
     "name": "stdout",
     "output_type": "stream",
     "text": [
      "Epoch 1/50\n",
      "\u001b[1m1846/1846\u001b[0m \u001b[32m━━━━━━━━━━━━━━━━━━━━\u001b[0m\u001b[37m\u001b[0m \u001b[1m9s\u001b[0m 4ms/step - loss: 1.0200 - val_loss: 0.9900 - learning_rate: 0.0010\n",
      "Epoch 2/50\n",
      "\u001b[1m1846/1846\u001b[0m \u001b[32m━━━━━━━━━━━━━━━━━━━━\u001b[0m\u001b[37m\u001b[0m \u001b[1m6s\u001b[0m 3ms/step - loss: 0.9232 - val_loss: 0.9848 - learning_rate: 0.0010\n",
      "Epoch 3/50\n",
      "\u001b[1m1846/1846\u001b[0m \u001b[32m━━━━━━━━━━━━━━━━━━━━\u001b[0m\u001b[37m\u001b[0m \u001b[1m6s\u001b[0m 3ms/step - loss: 0.9168 - val_loss: 0.9825 - learning_rate: 0.0010\n",
      "Epoch 4/50\n",
      "\u001b[1m1846/1846\u001b[0m \u001b[32m━━━━━━━━━━━━━━━━━━━━\u001b[0m\u001b[37m\u001b[0m \u001b[1m7s\u001b[0m 4ms/step - loss: 0.9123 - val_loss: 0.9809 - learning_rate: 0.0010\n",
      "Epoch 5/50\n",
      "\u001b[1m1846/1846\u001b[0m \u001b[32m━━━━━━━━━━━━━━━━━━━━\u001b[0m\u001b[37m\u001b[0m \u001b[1m6s\u001b[0m 3ms/step - loss: 0.9034 - val_loss: 0.9794 - learning_rate: 0.0010\n",
      "Epoch 6/50\n",
      "\u001b[1m1846/1846\u001b[0m \u001b[32m━━━━━━━━━━━━━━━━━━━━\u001b[0m\u001b[37m\u001b[0m \u001b[1m6s\u001b[0m 3ms/step - loss: 0.8833 - val_loss: 0.9786 - learning_rate: 0.0010\n",
      "Epoch 7/50\n",
      "\u001b[1m1846/1846\u001b[0m \u001b[32m━━━━━━━━━━━━━━━━━━━━\u001b[0m\u001b[37m\u001b[0m \u001b[1m6s\u001b[0m 3ms/step - loss: 0.9071 - val_loss: 0.9778 - learning_rate: 0.0010\n",
      "Epoch 8/50\n",
      "\u001b[1m1846/1846\u001b[0m \u001b[32m━━━━━━━━━━━━━━━━━━━━\u001b[0m\u001b[37m\u001b[0m \u001b[1m6s\u001b[0m 3ms/step - loss: 0.8917 - val_loss: 0.9774 - learning_rate: 0.0010\n",
      "Epoch 9/50\n",
      "\u001b[1m1846/1846\u001b[0m \u001b[32m━━━━━━━━━━━━━━━━━━━━\u001b[0m\u001b[37m\u001b[0m \u001b[1m6s\u001b[0m 3ms/step - loss: 0.9009 - val_loss: 0.9769 - learning_rate: 0.0010\n",
      "Epoch 10/50\n",
      "\u001b[1m1846/1846\u001b[0m \u001b[32m━━━━━━━━━━━━━━━━━━━━\u001b[0m\u001b[37m\u001b[0m \u001b[1m7s\u001b[0m 4ms/step - loss: 0.9082 - val_loss: 0.9777 - learning_rate: 0.0010\n",
      "Epoch 11/50\n",
      "\u001b[1m1846/1846\u001b[0m \u001b[32m━━━━━━━━━━━━━━━━━━━━\u001b[0m\u001b[37m\u001b[0m \u001b[1m7s\u001b[0m 4ms/step - loss: 0.9112 - val_loss: 0.9759 - learning_rate: 0.0010\n",
      "Epoch 12/50\n",
      "\u001b[1m1846/1846\u001b[0m \u001b[32m━━━━━━━━━━━━━━━━━━━━\u001b[0m\u001b[37m\u001b[0m \u001b[1m6s\u001b[0m 3ms/step - loss: 0.9127 - val_loss: 0.9756 - learning_rate: 0.0010\n",
      "Epoch 13/50\n",
      "\u001b[1m1846/1846\u001b[0m \u001b[32m━━━━━━━━━━━━━━━━━━━━\u001b[0m\u001b[37m\u001b[0m \u001b[1m7s\u001b[0m 4ms/step - loss: 0.9293 - val_loss: 0.9756 - learning_rate: 0.0010\n",
      "Epoch 14/50\n",
      "\u001b[1m1846/1846\u001b[0m \u001b[32m━━━━━━━━━━━━━━━━━━━━\u001b[0m\u001b[37m\u001b[0m \u001b[1m6s\u001b[0m 3ms/step - loss: 0.9022 - val_loss: 0.9749 - learning_rate: 0.0010\n",
      "Epoch 15/50\n",
      "\u001b[1m1846/1846\u001b[0m \u001b[32m━━━━━━━━━━━━━━━━━━━━\u001b[0m\u001b[37m\u001b[0m \u001b[1m6s\u001b[0m 3ms/step - loss: 0.9001 - val_loss: 0.9783 - learning_rate: 0.0010\n",
      "Epoch 16/50\n",
      "\u001b[1m1846/1846\u001b[0m \u001b[32m━━━━━━━━━━━━━━━━━━━━\u001b[0m\u001b[37m\u001b[0m \u001b[1m6s\u001b[0m 3ms/step - loss: 0.9029 - val_loss: 0.9748 - learning_rate: 0.0010\n",
      "Epoch 17/50\n",
      "\u001b[1m1846/1846\u001b[0m \u001b[32m━━━━━━━━━━━━━━━━━━━━\u001b[0m\u001b[37m\u001b[0m \u001b[1m7s\u001b[0m 4ms/step - loss: 0.9200 - val_loss: 0.9744 - learning_rate: 0.0010\n",
      "Epoch 18/50\n",
      "\u001b[1m1846/1846\u001b[0m \u001b[32m━━━━━━━━━━━━━━━━━━━━\u001b[0m\u001b[37m\u001b[0m \u001b[1m7s\u001b[0m 4ms/step - loss: 0.9126 - val_loss: 0.9743 - learning_rate: 0.0010\n",
      "Epoch 19/50\n",
      "\u001b[1m1846/1846\u001b[0m \u001b[32m━━━━━━━━━━━━━━━━━━━━\u001b[0m\u001b[37m\u001b[0m \u001b[1m6s\u001b[0m 3ms/step - loss: 0.9167 - val_loss: 0.9741 - learning_rate: 0.0010\n",
      "Epoch 20/50\n",
      "\u001b[1m1846/1846\u001b[0m \u001b[32m━━━━━━━━━━━━━━━━━━━━\u001b[0m\u001b[37m\u001b[0m \u001b[1m6s\u001b[0m 3ms/step - loss: 0.9181 - val_loss: 0.9738 - learning_rate: 0.0010\n",
      "Epoch 21/50\n",
      "\u001b[1m1846/1846\u001b[0m \u001b[32m━━━━━━━━━━━━━━━━━━━━\u001b[0m\u001b[37m\u001b[0m \u001b[1m6s\u001b[0m 3ms/step - loss: 0.9103 - val_loss: 0.9748 - learning_rate: 0.0010\n",
      "Epoch 22/50\n",
      "\u001b[1m1846/1846\u001b[0m \u001b[32m━━━━━━━━━━━━━━━━━━━━\u001b[0m\u001b[37m\u001b[0m \u001b[1m7s\u001b[0m 4ms/step - loss: 0.9341 - val_loss: 0.9736 - learning_rate: 0.0010\n",
      "Epoch 23/50\n",
      "\u001b[1m1846/1846\u001b[0m \u001b[32m━━━━━━━━━━━━━━━━━━━━\u001b[0m\u001b[37m\u001b[0m \u001b[1m7s\u001b[0m 4ms/step - loss: 0.9138 - val_loss: 0.9733 - learning_rate: 0.0010\n",
      "Epoch 24/50\n",
      "\u001b[1m1846/1846\u001b[0m \u001b[32m━━━━━━━━━━━━━━━━━━━━\u001b[0m\u001b[37m\u001b[0m \u001b[1m6s\u001b[0m 3ms/step - loss: 0.9129 - val_loss: 0.9738 - learning_rate: 0.0010\n",
      "Epoch 25/50\n",
      "\u001b[1m1846/1846\u001b[0m \u001b[32m━━━━━━━━━━━━━━━━━━━━\u001b[0m\u001b[37m\u001b[0m \u001b[1m6s\u001b[0m 3ms/step - loss: 0.9241 - val_loss: 0.9732 - learning_rate: 0.0010\n",
      "Epoch 26/50\n",
      "\u001b[1m1846/1846\u001b[0m \u001b[32m━━━━━━━━━━━━━━━━━━━━\u001b[0m\u001b[37m\u001b[0m \u001b[1m6s\u001b[0m 3ms/step - loss: 0.9017 - val_loss: 0.9728 - learning_rate: 0.0010\n",
      "Epoch 27/50\n",
      "\u001b[1m1846/1846\u001b[0m \u001b[32m━━━━━━━━━━━━━━━━━━━━\u001b[0m\u001b[37m\u001b[0m \u001b[1m6s\u001b[0m 3ms/step - loss: 0.9007 - val_loss: 0.9729 - learning_rate: 0.0010\n",
      "Epoch 28/50\n",
      "\u001b[1m1846/1846\u001b[0m \u001b[32m━━━━━━━━━━━━━━━━━━━━\u001b[0m\u001b[37m\u001b[0m \u001b[1m6s\u001b[0m 3ms/step - loss: 0.9268 - val_loss: 0.9727 - learning_rate: 0.0010\n",
      "Epoch 29/50\n",
      "\u001b[1m1846/1846\u001b[0m \u001b[32m━━━━━━━━━━━━━━━━━━━━\u001b[0m\u001b[37m\u001b[0m \u001b[1m6s\u001b[0m 3ms/step - loss: 0.9040 - val_loss: 0.9731 - learning_rate: 0.0010\n",
      "Epoch 30/50\n",
      "\u001b[1m1846/1846\u001b[0m \u001b[32m━━━━━━━━━━━━━━━━━━━━\u001b[0m\u001b[37m\u001b[0m \u001b[1m7s\u001b[0m 4ms/step - loss: 0.8820 - val_loss: 0.9732 - learning_rate: 0.0010\n",
      "Epoch 31/50\n",
      "\u001b[1m1846/1846\u001b[0m \u001b[32m━━━━━━━━━━━━━━━━━━━━\u001b[0m\u001b[37m\u001b[0m \u001b[1m7s\u001b[0m 4ms/step - loss: 0.9092 - val_loss: 0.9725 - learning_rate: 0.0010\n",
      "Epoch 32/50\n",
      "\u001b[1m1846/1846\u001b[0m \u001b[32m━━━━━━━━━━━━━━━━━━━━\u001b[0m\u001b[37m\u001b[0m \u001b[1m6s\u001b[0m 3ms/step - loss: 0.9231 - val_loss: 0.9726 - learning_rate: 0.0010\n",
      "Epoch 33/50\n",
      "\u001b[1m1846/1846\u001b[0m \u001b[32m━━━━━━━━━━━━━━━━━━━━\u001b[0m\u001b[37m\u001b[0m \u001b[1m6s\u001b[0m 3ms/step - loss: 0.8934 - val_loss: 0.9729 - learning_rate: 0.0010\n",
      "Epoch 34/50\n",
      "\u001b[1m1846/1846\u001b[0m \u001b[32m━━━━━━━━━━━━━━━━━━━━\u001b[0m\u001b[37m\u001b[0m \u001b[1m8s\u001b[0m 4ms/step - loss: 0.8981 - val_loss: 0.9718 - learning_rate: 0.0010\n",
      "Epoch 35/50\n",
      "\u001b[1m1846/1846\u001b[0m \u001b[32m━━━━━━━━━━━━━━━━━━━━\u001b[0m\u001b[37m\u001b[0m \u001b[1m9s\u001b[0m 5ms/step - loss: 0.9129 - val_loss: 0.9720 - learning_rate: 0.0010\n",
      "Epoch 36/50\n",
      "\u001b[1m1846/1846\u001b[0m \u001b[32m━━━━━━━━━━━━━━━━━━━━\u001b[0m\u001b[37m\u001b[0m \u001b[1m13s\u001b[0m 7ms/step - loss: 0.9190 - val_loss: 0.9723 - learning_rate: 0.0010\n",
      "Epoch 37/50\n",
      "\u001b[1m1846/1846\u001b[0m \u001b[32m━━━━━━━━━━━━━━━━━━━━\u001b[0m\u001b[37m\u001b[0m \u001b[1m8s\u001b[0m 4ms/step - loss: 0.8900 - val_loss: 0.9724 - learning_rate: 0.0010\n",
      "Epoch 38/50\n",
      "\u001b[1m1846/1846\u001b[0m \u001b[32m━━━━━━━━━━━━━━━━━━━━\u001b[0m\u001b[37m\u001b[0m \u001b[1m12s\u001b[0m 7ms/step - loss: 0.9176 - val_loss: 0.9703 - learning_rate: 5.0000e-04\n",
      "Epoch 39/50\n",
      "\u001b[1m1846/1846\u001b[0m \u001b[32m━━━━━━━━━━━━━━━━━━━━\u001b[0m\u001b[37m\u001b[0m \u001b[1m11s\u001b[0m 6ms/step - loss: 0.8842 - val_loss: 0.9705 - learning_rate: 5.0000e-04\n",
      "Epoch 40/50\n",
      "\u001b[1m1846/1846\u001b[0m \u001b[32m━━━━━━━━━━━━━━━━━━━━\u001b[0m\u001b[37m\u001b[0m \u001b[1m9s\u001b[0m 5ms/step - loss: 0.9094 - val_loss: 0.9702 - learning_rate: 5.0000e-04\n",
      "Epoch 41/50\n",
      "\u001b[1m1846/1846\u001b[0m \u001b[32m━━━━━━━━━━━━━━━━━━━━\u001b[0m\u001b[37m\u001b[0m \u001b[1m10s\u001b[0m 5ms/step - loss: 0.8894 - val_loss: 0.9701 - learning_rate: 5.0000e-04\n",
      "Epoch 42/50\n",
      "\u001b[1m1846/1846\u001b[0m \u001b[32m━━━━━━━━━━━━━━━━━━━━\u001b[0m\u001b[37m\u001b[0m \u001b[1m8s\u001b[0m 4ms/step - loss: 0.8909 - val_loss: 0.9700 - learning_rate: 5.0000e-04\n",
      "Epoch 43/50\n",
      "\u001b[1m1846/1846\u001b[0m \u001b[32m━━━━━━━━━━━━━━━━━━━━\u001b[0m\u001b[37m\u001b[0m \u001b[1m7s\u001b[0m 4ms/step - loss: 0.8850 - val_loss: 0.9701 - learning_rate: 5.0000e-04\n",
      "Epoch 44/50\n",
      "\u001b[1m1846/1846\u001b[0m \u001b[32m━━━━━━━━━━━━━━━━━━━━\u001b[0m\u001b[37m\u001b[0m \u001b[1m7s\u001b[0m 4ms/step - loss: 0.9019 - val_loss: 0.9702 - learning_rate: 5.0000e-04\n",
      "Epoch 45/50\n",
      "\u001b[1m1846/1846\u001b[0m \u001b[32m━━━━━━━━━━━━━━━━━━━━\u001b[0m\u001b[37m\u001b[0m \u001b[1m8s\u001b[0m 4ms/step - loss: 0.9159 - val_loss: 0.9698 - learning_rate: 5.0000e-04\n",
      "Epoch 46/50\n",
      "\u001b[1m1846/1846\u001b[0m \u001b[32m━━━━━━━━━━━━━━━━━━━━\u001b[0m\u001b[37m\u001b[0m \u001b[1m7s\u001b[0m 4ms/step - loss: 0.9417 - val_loss: 0.9699 - learning_rate: 5.0000e-04\n",
      "Epoch 47/50\n",
      "\u001b[1m1846/1846\u001b[0m \u001b[32m━━━━━━━━━━━━━━━━━━━━\u001b[0m\u001b[37m\u001b[0m \u001b[1m7s\u001b[0m 4ms/step - loss: 0.8975 - val_loss: 0.9698 - learning_rate: 5.0000e-04\n",
      "Epoch 48/50\n",
      "\u001b[1m1846/1846\u001b[0m \u001b[32m━━━━━━━━━━━━━━━━━━━━\u001b[0m\u001b[37m\u001b[0m \u001b[1m7s\u001b[0m 4ms/step - loss: 0.8715 - val_loss: 0.9699 - learning_rate: 5.0000e-04\n",
      "Epoch 49/50\n",
      "\u001b[1m1846/1846\u001b[0m \u001b[32m━━━━━━━━━━━━━━━━━━━━\u001b[0m\u001b[37m\u001b[0m \u001b[1m7s\u001b[0m 4ms/step - loss: 0.9049 - val_loss: 0.9690 - learning_rate: 2.5000e-04\n",
      "Epoch 50/50\n",
      "\u001b[1m1846/1846\u001b[0m \u001b[32m━━━━━━━━━━━━━━━━━━━━\u001b[0m\u001b[37m\u001b[0m \u001b[1m7s\u001b[0m 4ms/step - loss: 0.8986 - val_loss: 0.9688 - learning_rate: 2.5000e-04\n"
     ]
    }
   ],
   "source": [
    "# Autoencoder model\n",
    "model = AutoEncoder()\n",
    "\n",
    "# Compile the model\n",
    "model.compile(optimizer='adam', loss='mean_squared_error')\n",
    "\n",
    "early_stopping = EarlyStopping(monitor='val_loss', patience=5)\n",
    "lr_schedule = ReduceLROnPlateau(monitor='val_loss', factor=0.5, patience=3)\n",
    "\n",
    "# Train the Autoencoder\n",
    "history = model.fit(X_train_scaled, X_train_scaled, \n",
    "                          epochs=50, \n",
    "                          batch_size=256, \n",
    "                          shuffle=True, \n",
    "                          validation_data=(X_test_scaled, X_test_scaled),\n",
    "                          callbacks = [early_stopping, lr_schedule])"
   ]
  },
  {
   "cell_type": "code",
   "execution_count": 86,
   "metadata": {},
   "outputs": [
    {
     "data": {
      "image/png": "[encoded data removed]",
      "text/plain": [
       "<Figure size 640x480 with 1 Axes>"
      ]
     },
     "metadata": {},
     "output_type": "display_data"
    }
   ],
   "source": [
    "plt.plot(history.history['loss'], label='Train Loss')\n",
    "plt.plot(history.history['val_loss'], label='Validation Loss')\n",
    "plt.title('Loss Curve')\n",
    "plt.xlabel('Epochs')\n",
    "plt.ylabel('Loss')\n",
    "plt.legend()\n",
    "plt.show()"
   ]
  },
  {
   "cell_type": "code",
   "execution_count": 87,
   "metadata": {},
   "outputs": [
    {
     "name": "stdout",
     "output_type": "stream",
     "text": [
      "\u001b[1m3691/3691\u001b[0m \u001b[32m━━━━━━━━━━━━━━━━━━━━\u001b[0m\u001b[37m\u001b[0m \u001b[1m2s\u001b[0m 643us/step\n"
     ]
    },
    {
     "data": {
      "text/plain": [
       "array([0.13072119, 0.30414211, 0.20616182, ..., 0.06666274, 0.12065589,\n",
       "       0.13962195])"
      ]
     },
     "execution_count": 87,
     "metadata": {},
     "output_type": "execute_result"
    }
   ],
   "source": [
    "# Get reconstruction errors for the test data (normal and fraud)\n",
    "reconstructions = model.predict(X_test_scaled) #using test data\n",
    "reconstruction_error = np.mean(np.power(X_test_scaled - reconstructions, 2), axis=1) #using test data\n",
    "reconstruction_error"
   ]
  },
  {
   "cell_type": "code",
   "execution_count": 88,
   "metadata": {},
   "outputs": [
    {
     "data": {
      "text/plain": [
       "1.0716081935303827"
      ]
     },
     "execution_count": 88,
     "metadata": {},
     "output_type": "execute_result"
    }
   ],
   "source": [
    "threshold = np.percentile(reconstruction_error, 90)\n",
    "threshold"
   ]
  },
  {
   "cell_type": "code",
   "execution_count": 95,
   "metadata": {},
   "outputs": [],
   "source": [
    "# Predict fraud based on reconstruction error\n",
    "y_pred_autoencoder = [1 if e > threshold else 0 for e in reconstruction_error]\n",
    "\n",
    "confusion_matrix = sklearn.metrics.confusion_matrix(y_test, y_pred_autoencoder)\n",
    "# Actual labels (fraud is 1, non-fraud is 0)\n",
    "# y_true = [1]*len(fraud) + [0]*len(X_test)"
   ]
  },
  {
   "cell_type": "code",
   "execution_count": 139,
   "metadata": {},
   "outputs": [
    {
     "data": {
      "image/png": "[encoded data removed]",
      "text/plain": [
       "<Figure size 640x480 with 2 Axes>"
      ]
     },
     "metadata": {},
     "output_type": "display_data"
    },
    {
     "name": "stdout",
     "output_type": "stream",
     "text": [
      "              precision    recall  f1-score   support\n",
      "\n",
      "           0       0.98      0.91      0.94    113975\n",
      "           1       0.13      0.36      0.19      4133\n",
      "\n",
      "    accuracy                           0.89    118108\n",
      "   macro avg       0.55      0.64      0.57    118108\n",
      "weighted avg       0.95      0.89      0.91    118108\n",
      "\n"
     ]
    }
   ],
   "source": [
    "# Confusion Matrix and Classification Report\n",
    "categories = ['Not fraud', 'Fraud']\n",
    "sns.heatmap(\n",
    "    confusion_matrix / np.sum(confusion_matrix),  # Normalized by the total sum for percentages\n",
    "    annot=True,  # Show the annotations\n",
    "    annot_kws={'size': 16},  # Size of annotations\n",
    "    cmap='Blues',  # Color map\n",
    "    fmt='.2%',  # Format the annotation to show percentage\n",
    "    xticklabels=categories,  # Set x-axis labels\n",
    "    yticklabels=categories,  # Set y-axis labels\n",
    "    cbar_kws={'label': 'Percentage of Total'}  # Add color bar with label\n",
    ")\n",
    "\n",
    "plt.ylabel('Predicted Labels')  # X-axis label\n",
    "plt.xlabel('True Labels')  # Y-axis label\n",
    "plt.title('Normalized Confusion Matrix')  # Title of the plot\n",
    "plt.show()\n",
    "print(classification_report(y_test, y_pred_autoencoder))"
   ]
  },
  {
   "cell_type": "markdown",
   "metadata": {},
   "source": [
    "# **ISOLATION FOREST MODEL**"
   ]
  },
  {
   "cell_type": "code",
   "execution_count": 131,
   "metadata": {},
   "outputs": [
    {
     "name": "stdout",
     "output_type": "stream",
     "text": [
      "Outlier Fraction in Test Set: 0.0350\n"
     ]
    }
   ],
   "source": [
    "# outlier fraction to get contamination rate for isolation forest\n",
    "outlier_fraction = y_test.mean()\n",
    "print(f\"Outlier Fraction in Test Set: {outlier_fraction:.4f}\")"
   ]
  },
  {
   "cell_type": "code",
   "execution_count": 137,
   "metadata": {},
   "outputs": [
    {
     "name": "stdout",
     "output_type": "stream",
     "text": [
      "Isolation Forest Model Performance:\n"
     ]
    },
    {
     "data": {
      "image/png": "[encoded data removed]",
      "text/plain": [
       "<Figure size 640x480 with 2 Axes>"
      ]
     },
     "metadata": {},
     "output_type": "display_data"
    },
    {
     "name": "stdout",
     "output_type": "stream",
     "text": [
      "              precision    recall  f1-score   support\n",
      "\n",
      "           0       0.97      0.97      0.97    113975\n",
      "           1       0.25      0.25      0.25      4133\n",
      "\n",
      "    accuracy                           0.95    118108\n",
      "   macro avg       0.61      0.61      0.61    118108\n",
      "weighted avg       0.95      0.95      0.95    118108\n",
      "\n"
     ]
    }
   ],
   "source": [
    "from sklearn.ensemble import IsolationForest\n",
    "from sklearn.metrics import classification_report, precision_recall_fscore_support, roc_auc_score, accuracy_score\n",
    "\n",
    "# Best parameters from the grid search\n",
    "isolation_forest = IsolationForest(n_estimators=100, max_samples='auto', contamination=.035, random_state=42)\n",
    "\n",
    "# Train the best Isolation Forest model on the same train data\n",
    "isolation_forest.fit(X_train)\n",
    "\n",
    "# Predict the labels on the same test set\n",
    "y_pred_isoforest = isolation_forest.predict(X_test)\n",
    "y_pred_isoforest = np.where(y_pred_isoforest == -1, 1, 0)  # Convert to 1 for fraud, 0 for non-fraud\n",
    "\n",
    "# Evaluate Isolation Forest\n",
    "print(\"Isolation Forest Model Performance:\")\n",
    "confusion_matrix_2 = sklearn.metrics.confusion_matrix(y_test, y_pred_isoforest)\n",
    "sns.heatmap(\n",
    "    confusion_matrix_2 / np.sum(confusion_matrix_2),  # Normalized by the total sum for percentages\n",
    "    annot=True,  # Show the annotations\n",
    "    annot_kws={'size': 16},  # Size of annotations\n",
    "    cmap='Blues',  # Color map\n",
    "    fmt='.2%',  # Format the annotation to show percentage\n",
    "    xticklabels=categories,  # Set x-axis labels\n",
    "    yticklabels=categories,  # Set y-axis labels\n",
    "    cbar_kws={'label': 'Percentage of Total'}  # Add color bar with label\n",
    ")\n",
    "plt.ylabel('Predicted Labels')  # X-axis label\n",
    "plt.xlabel('True Labels')  # Y-axis label\n",
    "plt.title('Normalized Confusion Matrix')  # Title of the plot\n",
    "plt.show()\n",
    "print(classification_report(y_test, y_pred_isoforest))"
   ]
  },
  {
   "cell_type": "code",
   "execution_count": 135,
   "metadata": {},
   "outputs": [
    {
     "name": "stdout",
     "output_type": "stream",
     "text": [
      "\n",
      "--- Models Comparison ---\n",
      "AutoEncoder - Precision (Fraud): 0.13, Recall: 0.36, F1 Score: 0.19, ROC AUC: 0.64, Accuracy: 0.8905\n",
      "Isolation Forest - Precision (Fraud): 0.25, Recall: 0.25, F1 Score: 0.25, ROC AUC: 0.61, Accuracy: 0.9474\n"
     ]
    }
   ],
   "source": [
    "# -------------------\n",
    "# Compare Results\n",
    "# -------------------\n",
    "# AutoEncoder evaluation metrics\n",
    "precision_auto, recall_auto, fscore_auto, _ = precision_recall_fscore_support(y_test, y_pred_autoencoder, average='binary')\n",
    "roc_auc_auto = roc_auc_score(y_test, y_pred_autoencoder)\n",
    "accuracy_auto = accuracy_score(y_test, y_pred_autoencoder)\n",
    "\n",
    "# Isolation Forest evaluation metrics\n",
    "precision_iso, recall_iso, fscore_iso, _ = precision_recall_fscore_support(y_test, y_pred_isoforest, average='binary')\n",
    "roc_auc_iso = roc_auc_score(y_test, y_pred_isoforest)\n",
    "accuracy_iso = accuracy_score(y_test, y_pred_isoforest)\n",
    "\n",
    "# Print comparison\n",
    "print(\"\\n--- Models Comparison ---\")\n",
    "print(f\"AutoEncoder - Precision (Fraud): {precision_auto:.2f}, Recall: {recall_auto:.2f}, F1 Score: {fscore_auto:.2f}, ROC AUC: {roc_auc_auto:.2f}, Accuracy: {accuracy_auto:.4f}\")\n",
    "print(f\"Isolation Forest - Precision (Fraud): {precision_iso:.2f}, Recall: {recall_iso:.2f}, F1 Score: {fscore_iso:.2f}, ROC AUC: {roc_auc_iso:.2f}, Accuracy: {accuracy_iso:.4f}\")"
   ]
  }
 ],
 "metadata": {
  "colab": {
   "provenance": []
  },
  "kernelspec": {
   "display_name": "Python 3 (ipykernel)",
   "language": "python",
   "name": "python3"
  },
  "language_info": {
   "codemirror_mode": {
    "name": "ipython",
    "version": 3
   },
   "file_extension": ".py",
   "mimetype": "text/x-python",
   "name": "python",
   "nbconvert_exporter": "python",
   "pygments_lexer": "ipython3",
   "version": "3.12.4"
  }
 },
 "nbformat": 4,
 "nbformat_minor": 4
}
